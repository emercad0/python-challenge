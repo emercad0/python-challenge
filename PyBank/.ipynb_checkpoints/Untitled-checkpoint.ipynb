{
 "cells": [
  {
   "cell_type": "code",
   "execution_count": 7,
   "metadata": {},
   "outputs": [],
   "source": [
    "import pandas as pd"
   ]
  },
  {
   "cell_type": "code",
   "execution_count": 5,
   "metadata": {},
   "outputs": [
    {
     "name": "stdout",
     "output_type": "stream",
     "text": [
      "total 32\r\n",
      "-rw-r--r--  1 edgar_macbook  staff   637 Sep  6 18:26 budget_data_1.csv\r\n",
      "-rw-r--r--  1 edgar_macbook  staff  1495 Sep  6 18:26 budget_data_2.csv\r\n",
      "-rw-r--r--  1 edgar_macbook  staff     0 Sep 10 20:10 main.py\r\n",
      "-rw-r--r--  1 edgar_macbook  staff  7979 Sep 10 21:56 Untitled.ipynb\r\n"
     ]
    }
   ],
   "source": [
    "! ls -lrt"
   ]
  },
  {
   "cell_type": "code",
   "execution_count": 6,
   "metadata": {},
   "outputs": [
    {
     "data": {
      "text/plain": [
       "'/Users/edgar_macbook/Desktop/Data Analytics - BootCamp/HW3/python-challenge/PyBank'"
      ]
     },
     "execution_count": 6,
     "metadata": {},
     "output_type": "execute_result"
    }
   ],
   "source": [
    "pwd"
   ]
  },
  {
   "cell_type": "code",
   "execution_count": 16,
   "metadata": {},
   "outputs": [],
   "source": [
    "budgetD1 = pd.read_csv('/Users/edgar_macbook/Desktop/Data Analytics - BootCamp/HW3/python-challenge/PyBank/budget_data_1.csv')"
   ]
  },
  {
   "cell_type": "code",
   "execution_count": 50,
   "metadata": {},
   "outputs": [
    {
     "name": "stdout",
     "output_type": "stream",
     "text": [
      "     Date  Revenue\n",
      "0  Oct-12  1154293\n",
      "1  Nov-12   885773\n",
      "18971412\n"
     ]
    }
   ],
   "source": [
    "# It's always good to become familiar with the data types that we are going to be working with.\n",
    "#print(budgetD1.dtypes)\n",
    "# Let's take a look \n",
    "print(budgetD1.head(2))\n",
    "# Printing the whole dataset to ensure to check and make sure that there's no missing values \n",
    "#print(budgetD1)\n",
    "\n",
    "#print(list(budgetD1['Revenue']))\n",
    "#revVal = list(budgetD1['Revenue'])\n",
    "#print(revVal)\n",
    "#for value in revVal:\n",
    "#    value=+ value\n",
    "#    print(value)\n",
    "\n",
    "#for value in revVal:\n",
    "#    print(value)\n",
    "    \n",
    "#print(sum(revVal))\n",
    "#amtOfRev = sum(revVal)\n",
    "print(amtOfRev)"
   ]
  },
  {
   "cell_type": "code",
   "execution_count": 69,
   "metadata": {},
   "outputs": [
    {
     "name": "stdout",
     "output_type": "stream",
     "text": [
      "['Oct-12', 'Nov-12', 'Dec-12', 'Jan-13', 'Feb-13', 'Mar-13', 'Apr-13', 'May-13', 'Jun-13', 'Jul-13', 'Aug-13', 'Sep-13', 'Oct-13', 'Nov-13', 'Dec-13', 'Jan-14', 'Feb-14', 'Mar-14', 'Apr-14', 'May-14', 'Jun-14', 'Jul-14', 'Aug-14', 'Sep-14', 'Oct-14', 'Nov-14', 'Dec-14', 'Jan-15', 'Feb-15', 'Mar-15', 'Apr-15', 'May-15', 'Jun-15', 'Jul-15', 'Aug-15', 'Sep-15', 'Oct-15', 'Nov-15', 'Dec-15', 'Jan-16', 'Feb-16']\n",
      "object\n"
     ]
    }
   ],
   "source": [
    "print(list(budgetD1['Date']))\n",
    "datesCol = budgetD1['Date']\n",
    "datesCol.\n",
    "lstOfDates = list(datesCol)\n",
    "#print(lstOfDates.count())\n",
    "#for dt in lstOfDates.split()"
   ]
  },
  {
   "cell_type": "code",
   "execution_count": 567,
   "metadata": {},
   "outputs": [],
   "source": [
    "#The total number of months included in the dataset\n",
    "# Add up all the months and if the date is equal to each other don't count \n",
    "numOfMonths = 0 \n",
    "\n",
    "#The total amount of revenue gained over the entire period\n",
    "# Sum of column 2 \n",
    "amtOfRev = 0 \n",
    "\n",
    "#The average change in revenue between months over the entire period\n",
    "# average of totalSum - \n",
    "avgChange = 0 \n",
    "\n",
    "#The greatest increase in revenue (date and amount) over the entire period\n",
    "greatestIncr = 0 \n",
    "\n",
    "#The greatest decrease in revenue (date and amount) over the entire period\n",
    "greatestDecr = 0 \n"
   ]
  },
  {
   "cell_type": "code",
   "execution_count": 868,
   "metadata": {},
   "outputs": [],
   "source": [
    "import os\n",
    "import csv\n",
    "from collections import defaultdict\n"
   ]
  },
  {
   "cell_type": "code",
   "execution_count": 869,
   "metadata": {},
   "outputs": [
    {
     "data": {
      "text/plain": [
       "<generator object file_check at 0x10458e938>"
      ]
     },
     "execution_count": 869,
     "metadata": {},
     "output_type": "execute_result"
    }
   ],
   "source": [
    "data_file = os.path.join(\"Resources\",\"budget_data_1.csv\")\n",
    "data_file2 = os.path.join(\"Resources\",\"budget_data_2.csv\")\n",
    "\n",
    "\n",
    "def file_check(path):\n",
    "    with open(path) as data:\n",
    "        csvReader = csv.DictReader(data, delimiter=',')\n",
    "        header = next(csvReader)\n",
    "        for row in  csvReader:\n",
    "            yield row\n",
    "        \n",
    "        \n",
    "file_check(data_file)    \n",
    "file_check(data_file2)\n",
    " \n",
    "#def merge_files():\n",
    "#budget_l = defaultdict(list)\n",
    "#for idx ,row in file_check(data_file2):\n",
    "#    budget_l[idx].append(row)\n",
    "#print(budget_l.items())\n"
   ]
  },
  {
   "cell_type": "code",
   "execution_count": 1138,
   "metadata": {},
   "outputs": [],
   "source": [
    "datesCol = []\n",
    "revCol = []\n",
    "amtOfRev = 0\n",
    "count = 0 \n",
    "prev_year = []\n",
    "data = {}\n",
    "if __name__==\"__main__\":\n",
    "    for row in (file_check(data_file2)):\n",
    "        datesCol = row[\"Date\"]\n",
    "        #revCol = row[\"Revenue\"]\n",
    "        rCol = int(\"{Revenue}\".format(**row))\n",
    "        #data = \"%(Date)s | %(Revenue)s\" % row\n",
    "        #print(row[2])\n",
    "\n",
    "        amtOfRev += rCol\n",
    "        \n",
    "    \n",
    "\n",
    "        #datesCol = row[0]\n",
    "        #revCol = row[1]\n",
    "        #years = datesCol[4:]\n",
    "        #if years == prev_year:\n",
    "        count +=1 \n",
    "        #else:\n",
    "         #   result += revCol\n",
    "          #  prev_year = years\n",
    "           # count = 1\n",
    "            \n",
    "            \n",
    "           # print(years)\n",
    "           # print(result)\n",
    "        #print(row)\n",
    "        #print(revCol)\n",
    "        #if row[1] == revCol:\n",
    "            #amtOfRev += revCol\n",
    "  "
   ]
  },
  {
   "cell_type": "code",
   "execution_count": 660,
   "metadata": {},
   "outputs": [
    {
     "data": {
      "text/plain": [
       "<generator object file_check at 0x1044890a0>"
      ]
     },
     "execution_count": 660,
     "metadata": {},
     "output_type": "execute_result"
    }
   ],
   "source": [
    "def _avg_part_result(self,prev_year,count):\n",
    "    \n",
    "    return "
   ]
  },
  {
   "cell_type": "code",
   "execution_count": 579,
   "metadata": {},
   "outputs": [],
   "source": [
    "\n",
    "\n",
    "       "
   ]
  },
  {
   "cell_type": "code",
   "execution_count": 676,
   "metadata": {},
   "outputs": [
    {
     "name": "stdout",
     "output_type": "stream",
     "text": [
      "347739292\n"
     ]
    }
   ],
   "source": []
  },
  {
   "cell_type": "code",
   "execution_count": 598,
   "metadata": {},
   "outputs": [],
   "source": [
    "\n",
    "#def file_watcher():\n",
    "#    budgetF = open('Resources/budget_data_1.csv','r')\n",
    "#    csvReader = csv.reader(budgetF, delimiter=',')\n",
    "#    header = next(csvReader)\n",
    "#    for row in  csvReader:\n",
    "#        row[1] = int(row[1])\n",
    "#        yield row\n",
    "\n",
    "\n",
    "\n",
    "\n",
    "\n",
    "\n",
    "#if __name__==\"__main__\":\n",
    " #   for  idx, row in enumerate(file_watcher(),1):\n",
    " #       if idx > 10: break\n",
    "       # dates = str(row[0])\n",
    "        #print(dates)\n",
    " #       print(row[1])\n",
    "#     print(\"%(Date)s | %(Revenue)s\" % row)"
   ]
  },
  {
   "cell_type": "code",
   "execution_count": 496,
   "metadata": {},
   "outputs": [
    {
     "data": {
      "text/plain": [
       "'/Users/edgar_macbook/Desktop/Data Analytics - BootCamp/HW3/python-challenge/PyBank'"
      ]
     },
     "execution_count": 496,
     "metadata": {},
     "output_type": "execute_result"
    }
   ],
   "source": [
    "pwd"
   ]
  },
  {
   "cell_type": "code",
   "execution_count": 34,
   "metadata": {},
   "outputs": [
    {
     "name": "stdout",
     "output_type": "stream",
     "text": [
      "Untitled.ipynb     budget_data_1.csv  budget_data_2.csv  main.py\r\n"
     ]
    }
   ],
   "source": [
    "ls"
   ]
  },
  {
   "cell_type": "code",
   "execution_count": 1052,
   "metadata": {},
   "outputs": [],
   "source": [
    " #if row is int:\n",
    "        #colDate = row[0]\n",
    "        #colReve = row[1]"
   ]
  },
  {
   "cell_type": "code",
   "execution_count": 1486,
   "metadata": {},
   "outputs": [],
   "source": [
    "import os\n",
    "import csv\n",
    "from collections import defaultdict\n",
    "\n",
    "\n",
    "\n",
    "data_file = os.path.join(\"Resources\",\"budget_data_1.csv\")\n",
    "data_file2 = os.path.join(\"Resources\",\"budget_data_2.csv\")\n",
    "r_analysis = os.path.join(\"Resources\",\"results.txt\")\n",
    "\n",
    "\n",
    "ttlMonths = 0 \n",
    "prevRevenue = 0 \n",
    "month0fChng = []\n",
    "revDiff = []\n",
    "greatestInc = [\"\", 0]\n",
    "greatestDec = [\"\", 999999]\n",
    "amntOfRev = 0 \n",
    "avgRev = 0\n",
    "\n",
    "\n",
    "def file_check(path):\n",
    "    with open(path) as data:\n",
    "        csvReader = csv.DictReader(data, delimiter=',')\n",
    "        header = next(csvReader)\n",
    "        for row in  csvReader:\n",
    "            yield row\n",
    "\n",
    "\n",
    "for row in (file_check(data_file2)): \n",
    "    ttlMonths = ttlMonths + 1 \n",
    "    amntOfRev = amtOfRev + int(row[\"Revenue\"]) \n",
    "    revDiff = revDiff + [revChng]\n",
    "    #print(amntOfRev)\n",
    "    revChng = int(row[\"Revenue\"]) - prevRevenue\n",
    "    prevRev = int(row[\"Revenue\"])\n",
    "    #print(type(prevRev))\n",
    "    month0fChng = month0fChng + [row[\"Date\"]]\n",
    "    if (revChng > greatestInc[1]):\n",
    "        greatestInc[0] = row[\"Date\"]\n",
    "        greatestInc[1] = revChng\n",
    "    if (revChng < greatestDec[1]):\n",
    "        greatestDec[0] = row[\"Date\"]\n",
    "        greatestDec[1] = revChng\n",
    "        \n",
    "def _avg(self): \n",
    "    for row in revDiff: \n",
    "        avg = sum(revDiff)/len(revDiff) \n",
    "        return \"Average Revenue Change: $\" +str(avg)\n",
    "\n",
    "if __name__==\"__main__\": \n",
    "    result =(\n",
    "        f\"\\nFinancial Analysis\\n\"\n",
    "        f\"----------------------------\\n\"\n",
    "        f\"Total Months: {ttlMonths}\\n\"\n",
    "        f\"Total Revenue: {amntOfRev}\\n\"\n",
    "        f\"{_avg(revDiff)}\\n\"\n",
    "        f\"Greatest Increase in Revenue: {greatestInc[0]} (${greatestInc[1]})\\n\"\n",
    "        f\"Greatest Decrease in Revenue: {greatestDec[0]} (${greatestDec[1]})\\n\"\n",
    "\n",
    "    )\n",
    "    with open(r_analysis, \"w\") as file:\n",
    "        file.write(result)"
   ]
  },
  {
   "cell_type": "code",
   "execution_count": 1485,
   "metadata": {},
   "outputs": [],
   "source": [
    "if __name__==\"__main__\": \n",
    "    result =(\n",
    "        f\"\\nFinancial Analysis\\n\"\n",
    "        f\"----------------------------\\n\"\n",
    "        f\"Total Months: {ttlMonths}\\n\"\n",
    "        f\"Total Revenue: {amntOfRev}\\n\"\n",
    "        f\"{_avg(revDiff)}\\n\"\n",
    "        f\"Greatest Increase in Revenue: {greatestInc[0]} (${greatestInc[1]})\\n\"\n",
    "        f\"Greatest Decrease in Revenue: {greatestDec[0]} (${greatestDec[1]})\\n\"\n",
    "\n",
    "    )\n",
    "    with open(r_analysis, \"w\") as file:\n",
    "        file.write(result)"
   ]
  },
  {
   "cell_type": "markdown",
   "metadata": {},
   "source": [
    "if __name__==\"__main__\":\n",
    "    for row in (file_check(data_file2)):\n",
    "        ttlMonths = ttlMonths + 1 \n",
    "        amntOfRev =  amtOfRev + int(row[\"Revenue\"])\n",
    "        revDiff = revDiff + [revChng]\n",
    "        #print(amntOfRev)\n",
    "        revChng = int(row[\"Revenue\"]) - prevRevenue\n",
    "        prevRev = int(row[\"Revenue\"])\n",
    "    \n",
    "        #print(type(prevRev))\n",
    "        month0fChng = month0fChng + [row[\"Date\"]]\n",
    "        if (revChng > greatestInc[1]):\n",
    "            greatestInc[0] = row[\"Date\"]\n",
    "            greatestInc[1] = revChng\n",
    "        if (revChng < greatestDec[1]):\n",
    "            greatestDec[0] = row[\"Date\"]\n",
    "            greatestDec[1] = revChng\n",
    "            #print(ttlMonths)\n",
    "\n",
    "def _avg(self):\n",
    "    for row in revDiff:\n",
    "        avg = sum(revDiff)/len(revDiff)\n",
    "    return \"Average Revenue Change: $\" +str(avg)    \n",
    "\n",
    "def \n",
    "finAnalysis = (\n",
    "f\"\\nFinancial Analysis/n\"\n",
    "\n",
    "print(_avg(revDiff))\n",
    ")"
   ]
  },
  {
   "cell_type": "code",
   "execution_count": 1458,
   "metadata": {},
   "outputs": [
    {
     "data": {
      "text/plain": [
       "'Average Revenue Change: $423884.9529411765'"
      ]
     },
     "execution_count": 1458,
     "metadata": {},
     "output_type": "execute_result"
    }
   ],
   "source": [
    "_avg(revDiff)"
   ]
  },
  {
   "cell_type": "code",
   "execution_count": 1405,
   "metadata": {},
   "outputs": [],
   "source": [
    "main()"
   ]
  },
  {
   "cell_type": "code",
   "execution_count": null,
   "metadata": {},
   "outputs": [],
   "source": []
  }
 ],
 "metadata": {
  "kernelspec": {
   "display_name": "Python 3",
   "language": "python",
   "name": "python3"
  },
  "language_info": {
   "codemirror_mode": {
    "name": "ipython",
    "version": 3
   },
   "file_extension": ".py",
   "mimetype": "text/x-python",
   "name": "python",
   "nbconvert_exporter": "python",
   "pygments_lexer": "ipython3",
   "version": "3.6.5"
  }
 },
 "nbformat": 4,
 "nbformat_minor": 2
}
